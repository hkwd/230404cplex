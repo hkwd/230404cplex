{
 "cells": [
  {
   "cell_type": "code",
   "execution_count": 2,
   "metadata": {},
   "outputs": [],
   "source": [
    "import random\n",
    "from docplex.mp.model import Model"
   ]
  },
  {
   "cell_type": "code",
   "execution_count": 3,
   "metadata": {},
   "outputs": [
    {
     "name": "stdout",
     "output_type": "stream",
     "text": [
      "item_choiced[0, 1.0, 0, 0, 0, 0, 1.0, 0, 0, 0]\n"
     ]
    }
   ],
   "source": [
    "#10個のアイテムの値の合計を最大サイズの範囲内で最大化\n",
    "item_count = 10\n",
    "bin_size = 5\n",
    "item_size = [3.2895421940121903, 2.747936312766254, 1.6530471297151517, 5.253427253264955, 7.28929165215484, 4.739553657547207, 1.8839131940694132, 4.161982467170119, 0.695705496598702, 3.7371204363975687]\n",
    "item_value = [0.27927757476783455, 0.417034060023064, 0.14499849480269422, 0.6859586722309748, 0.9500408034846701, 0.46717681781350606, 0.7520048049254987, 0.7849634886831153, 0.10733709626379628, 0.7421045232784768]\n",
    "model = Model(name='item_pack')\n",
    "\n",
    "item_choice = model.binary_var_list(item_count, name=\"item\")\n",
    "\n",
    "model.add_constraint(model.sum(item_size[i] * item_choice[i] for i in range(item_count)) <= bin_size)\n",
    "model.maximize(model.sum(item_value[i] * item_choice[i] for i in range(item_count)))\n",
    "solution = model.solve()\n",
    "\n",
    "item_choiced = [item_choice[i].solution_value for i in range(item_count)]\n",
    "print(f\"item_choiced{item_choiced}\")"
   ]
  },
  {
   "cell_type": "code",
   "execution_count": 9,
   "metadata": {},
   "outputs": [
    {
     "name": "stdout",
     "output_type": "stream",
     "text": [
      "item_choiced[0, 0, 0, 0, 0, 0, 1.0, 0, 0, 0.9999999999999999]\n"
     ]
    }
   ],
   "source": [
    "#問題によっては0と1.0にならない\n",
    "item_size[9]=2.7371204363975687\n",
    "model = Model(name='item_pack')\n",
    "\n",
    "item_choice = model.binary_var_list(item_count, name=\"item\")\n",
    "\n",
    "model.add_constraint(model.sum(item_size[i] * item_choice[i] for i in range(item_count)) <= bin_size)\n",
    "model.maximize(model.sum(item_value[i] * item_choice[i] for i in range(item_count)))\n",
    "solution = model.solve()\n",
    "\n",
    "item_choiced = [item_choice[i].solution_value for i in range(item_count)]\n",
    "print(f\"item_choiced{item_choiced}\")"
   ]
  },
  {
   "cell_type": "code",
   "execution_count": 10,
   "metadata": {},
   "outputs": [
    {
     "name": "stdout",
     "output_type": "stream",
     "text": [
      "value=0.9999999999999999\n",
      "int(value)=0\n",
      "round(value)=1\n"
     ]
    }
   ],
   "source": [
    "value=item_choiced[9]\n",
    "#0.9999999999999999\n",
    "print(f\"value={value}\")\n",
    "#0になってしまう。\n",
    "print(f\"int(value)={int(value)}\")\n",
    "#roundが必要\n",
    "print(f\"round(value)={round(value)}\")\n"
   ]
  },
  {
   "cell_type": "code",
   "execution_count": 6,
   "metadata": {},
   "outputs": [
    {
     "name": "stdout",
     "output_type": "stream",
     "text": [
      "item_choiced[0, 0, 0, 0, 0, 0, 1.0, 0, 0, 1]\n"
     ]
    }
   ],
   "source": [
    "model = Model(name='item_pack')\n",
    "\n",
    "#round_solutionで整数解を得る\n",
    "model.round_solution = True\n",
    "item_choice = model.binary_var_list(item_count, name=\"item\")\n",
    "\n",
    "model.add_constraint(model.sum(item_size[i] * item_choice[i] for i in range(item_count)) <= bin_size)\n",
    "model.maximize(model.sum(item_value[i] * item_choice[i] for i in range(item_count)))\n",
    "solution = model.solve()\n",
    "\n",
    "item_choiced = [item_choice[i].solution_value for i in range(item_count)]\n",
    "print(f\"item_choiced{item_choiced}\")"
   ]
  },
  {
   "cell_type": "code",
   "execution_count": 5,
   "metadata": {},
   "outputs": [
    {
     "name": "stdout",
     "output_type": "stream",
     "text": [
      "2.25.236\n"
     ]
    }
   ],
   "source": [
    "import docplex\n",
    "print(docplex.__version__)"
   ]
  },
  {
   "cell_type": "code",
   "execution_count": null,
   "metadata": {},
   "outputs": [],
   "source": []
  }
 ],
 "metadata": {
  "kernelspec": {
   "display_name": "Python 3",
   "language": "python",
   "name": "python3"
  },
  "language_info": {
   "codemirror_mode": {
    "name": "ipython",
    "version": 3
   },
   "file_extension": ".py",
   "mimetype": "text/x-python",
   "name": "python",
   "nbconvert_exporter": "python",
   "pygments_lexer": "ipython3",
   "version": "3.10.9"
  }
 },
 "nbformat": 4,
 "nbformat_minor": 2
}
